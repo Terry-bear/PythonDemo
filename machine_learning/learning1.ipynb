{
 "cells": [
  {
   "cell_type": "code",
   "execution_count": 20,
   "metadata": {
    "scrolled": true
   },
   "outputs": [
    {
     "data": {
      "text/plain": [
       "'1.14.0'"
      ]
     },
     "execution_count": 20,
     "metadata": {},
     "output_type": "execute_result"
    }
   ],
   "source": [
    "import numpy\n",
    "?numpy\n",
    "numpy.__version__"
   ]
  },
  {
   "cell_type": "code",
   "execution_count": 2,
   "metadata": {},
   "outputs": [
    {
     "name": "stdout",
     "output_type": "stream",
     "text": [
      "hello, mechine learning!\n",
      "hello, mechine learning!\n",
      "hello, mechine learning!\n",
      "hello, mechine learning!\n",
      "hello, mechine learning!\n",
      "hello, mechine learning!\n",
      "hello, mechine learning!\n",
      "hello, mechine learning!\n",
      "hello, mechine learning!\n",
      "hello, mechine learning!\n",
      "hello, mechine learning!\n",
      "hello, mechine learning!\n",
      "hello, mechine learning!\n",
      "hello, mechine learning!\n",
      "hello, mechine learning!\n",
      "hello, mechine learning!\n",
      "hello, mechine learning!\n",
      "hello, mechine learning!\n",
      "hello, mechine learning!\n",
      "hello, mechine learning!\n",
      "hello, mechine learning!\n",
      "hello, mechine learning!\n",
      "hello, mechine learning!\n",
      "hello, mechine learning!\n"
     ]
    }
   ],
   "source": [
    "for _ in range (24):\n",
    "    print (\"hello, mechine learning!\")"
   ]
  }
 ],
 "metadata": {
  "kernelspec": {
   "display_name": "Python 3",
   "language": "python",
   "name": "python3"
  },
  "language_info": {
   "codemirror_mode": {
    "name": "ipython",
    "version": 3
   },
   "file_extension": ".py",
   "mimetype": "text/x-python",
   "name": "python",
   "nbconvert_exporter": "python",
   "pygments_lexer": "ipython3",
   "version": "3.6.4"
  }
 },
 "nbformat": 4,
 "nbformat_minor": 2
}
